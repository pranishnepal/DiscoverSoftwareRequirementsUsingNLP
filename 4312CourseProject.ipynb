{
  "nbformat": 4,
  "nbformat_minor": 0,
  "metadata": {
    "colab": {
      "name": "4312CourseProject.ipynb",
      "provenance": [],
      "collapsed_sections": []
    },
    "kernelspec": {
      "name": "python3",
      "display_name": "Python 3"
    },
    "language_info": {
      "name": "python"
    }
  },
  "cells": [
    {
      "cell_type": "markdown",
      "source": [
        "# Installation and imports"
      ],
      "metadata": {
        "id": "3aJTG6xPG5Zt"
      }
    },
    {
      "cell_type": "code",
      "execution_count": null,
      "metadata": {
        "id": "oKfJRbhbYXjo"
      },
      "outputs": [],
      "source": [
        "import pandas as pd\n",
        "import numpy as np\n",
        "import warnings\n",
        "import re\n",
        "\n",
        "import nltk\n",
        "\n",
        "from nltk.tokenize import word_tokenize\n",
        "from nltk.stem import WordNetLemmatizer\n",
        "from nltk.stem import PorterStemmer\n",
        "from nltk.corpus import stopwords \n",
        "from nltk.corpus import wordnet\n",
        "from nltk.util import ngrams\n",
        "\n",
        "from textblob import TextBlob\n",
        "\n",
        "from sklearn.feature_extraction.text import TfidfVectorizer\n",
        "from sklearn.decomposition import LatentDirichletAllocation\n",
        "\n",
        "# To import CSV to colab\n",
        "from google.colab import files\n",
        "import io"
      ]
    },
    {
      "cell_type": "code",
      "source": [
        "# Download nltk packages\n",
        "nltk.download('punkt')\n",
        "nltk.download('stopwords')\n",
        "nltk.download('wordnet')\n",
        "\n",
        "# Install VADER sentiment\n",
        "!pip install vaderSentiment\n",
        "\n",
        "warnings.filterwarnings('ignore')\n",
        "\n",
        "from vaderSentiment.vaderSentiment import SentimentIntensityAnalyzer"
      ],
      "metadata": {
        "colab": {
          "base_uri": "https://localhost:8080/"
        },
        "id": "a3Fg85WGbOUh",
        "outputId": "28c6366a-d512-4897-99fe-16ba2544df67"
      },
      "execution_count": null,
      "outputs": [
        {
          "output_type": "stream",
          "name": "stdout",
          "text": [
            "[nltk_data] Downloading package punkt to /root/nltk_data...\n",
            "[nltk_data]   Unzipping tokenizers/punkt.zip.\n",
            "[nltk_data] Downloading package stopwords to /root/nltk_data...\n",
            "[nltk_data]   Unzipping corpora/stopwords.zip.\n",
            "[nltk_data] Downloading package wordnet to /root/nltk_data...\n",
            "[nltk_data]   Unzipping corpora/wordnet.zip.\n",
            "Collecting vaderSentiment\n",
            "  Downloading vaderSentiment-3.3.2-py2.py3-none-any.whl (125 kB)\n",
            "\u001b[K     |████████████████████████████████| 125 kB 7.2 MB/s \n",
            "\u001b[?25hRequirement already satisfied: requests in /usr/local/lib/python3.7/dist-packages (from vaderSentiment) (2.23.0)\n",
            "Requirement already satisfied: idna<3,>=2.5 in /usr/local/lib/python3.7/dist-packages (from requests->vaderSentiment) (2.10)\n",
            "Requirement already satisfied: certifi>=2017.4.17 in /usr/local/lib/python3.7/dist-packages (from requests->vaderSentiment) (2021.10.8)\n",
            "Requirement already satisfied: chardet<4,>=3.0.2 in /usr/local/lib/python3.7/dist-packages (from requests->vaderSentiment) (3.0.4)\n",
            "Requirement already satisfied: urllib3!=1.25.0,!=1.25.1,<1.26,>=1.21.1 in /usr/local/lib/python3.7/dist-packages (from requests->vaderSentiment) (1.24.3)\n",
            "Installing collected packages: vaderSentiment\n",
            "Successfully installed vaderSentiment-3.3.2\n"
          ]
        }
      ]
    },
    {
      "cell_type": "markdown",
      "source": [
        "# Task 2: Preprocessing App Reviews\n",
        "\n",
        "###### There are 5 CSVs containing App data. We will pre-process them below"
      ],
      "metadata": {
        "id": "qygm2RvJbVJi"
      }
    },
    {
      "cell_type": "code",
      "source": [
        "# Upload the following CSVs to Google Colab: \n",
        "# at.linuxtage.companion.csv, com.jtechme.jumpgo.csv, com.qubling.sidekick.csv, nya.miku.wishmaster.csv, org.ligi.ajsha.csv\n",
        "uploaded = files.upload()"
      ],
      "metadata": {
        "colab": {
          "resources": {
            "http://localhost:8080/nbextensions/google.colab/files.js": {
              "data": "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",
              "ok": true,
              "headers": [
                [
                  "content-type",
                  "application/javascript"
                ]
              ],
              "status": 200,
              "status_text": ""
            }
          },
          "base_uri": "https://localhost:8080/",
          "height": 212
        },
        "id": "a51CNoBybVeZ",
        "outputId": "f4026564-cadd-4f26-d3ce-eb90961fa15e"
      },
      "execution_count": null,
      "outputs": [
        {
          "output_type": "display_data",
          "data": {
            "text/plain": [
              "<IPython.core.display.HTML object>"
            ],
            "text/html": [
              "\n",
              "     <input type=\"file\" id=\"files-64c2c154-960f-41a1-9155-f5d2927751dd\" name=\"files[]\" multiple disabled\n",
              "        style=\"border:none\" />\n",
              "     <output id=\"result-64c2c154-960f-41a1-9155-f5d2927751dd\">\n",
              "      Upload widget is only available when the cell has been executed in the\n",
              "      current browser session. Please rerun this cell to enable.\n",
              "      </output>\n",
              "      <script src=\"/nbextensions/google.colab/files.js\"></script> "
            ]
          },
          "metadata": {}
        },
        {
          "output_type": "stream",
          "name": "stdout",
          "text": [
            "Saving at.linuxtage.companion.csv to at.linuxtage.companion.csv\n",
            "Saving com.jtechme.jumpgo.csv to com.jtechme.jumpgo.csv\n",
            "Saving com.qubling.sidekick.csv to com.qubling.sidekick.csv\n",
            "Saving nya.miku.wishmaster.csv to nya.miku.wishmaster.csv\n",
            "Saving org.ligi.ajsha.csv to org.ligi.ajsha.csv\n"
          ]
        }
      ]
    },
    {
      "cell_type": "markdown",
      "source": [
        "For convenience, we will refer to the specific files/apps as follow:\n",
        "\n",
        "* shell = org.ligi.ajsha.csv\n",
        "* chan = nya.miku.wishmaster.csv\n",
        "* cpan = com.qubling.sidekick.csv\n",
        "* scheduler = at.linuxtage.companion.csv\n",
        "* browser = com.jtechme.jumpgo.csv"
      ],
      "metadata": {
        "id": "NFqMOflJcAEJ"
      }
    },
    {
      "cell_type": "code",
      "source": [
        "shell_df = pd.read_csv(io.BytesIO(uploaded['org.ligi.ajsha.csv']))\n",
        "chan_df = pd.read_csv(io.BytesIO(uploaded['nya.miku.wishmaster.csv']))\n",
        "cpan_df = pd.read_csv(io.BytesIO(uploaded['com.qubling.sidekick.csv']))\n",
        "scheduler_df = pd.read_csv(io.BytesIO(uploaded['at.linuxtage.companion.csv']))\n",
        "browser_df = pd.read_csv(io.BytesIO(uploaded['com.jtechme.jumpgo.csv']))"
      ],
      "metadata": {
        "id": "1q5eDZNWbVt3"
      },
      "execution_count": null,
      "outputs": []
    },
    {
      "cell_type": "code",
      "source": [
        "number_word_map = {\n",
        "    '0': \"zero \",\n",
        "    '1': \"one \",\n",
        "    '2': \"two \",\n",
        "    '3': \"three \",\n",
        "    '4': \"four \",\n",
        "    '5': \"five \",\n",
        "    '6': \"six \",\n",
        "    '7': \"seven \",\n",
        "    '8': \"eight \",\n",
        "    '9': \"nine \",\n",
        "}\n",
        "\n",
        "def numberToWord(description):\n",
        "  \"\"\"\n",
        "    Takes the app `description` and converts digit into it's word form. For example, '2' --> 'two'\n",
        "  \"\"\"\n",
        "  description = list(description)\n",
        "  for idx in range(len(description)):\n",
        "    if description[idx] in number_word_map:\n",
        "      description[idx] = number_word_map[description[idx]]\n",
        "  \n",
        "  return \"\".join(description)\n",
        "\n",
        "def pre_process_reviews(df):\n",
        "    '''\n",
        "        Applies pre-processing steps to the `Review` column in the given `df`\n",
        "\n",
        "        Parameters:\n",
        "          df: a DataFrame containing app data\n",
        "\n",
        "        Returns:\n",
        "          an list of pre-processed and tokenized review\n",
        "    '''\n",
        "\n",
        "    # Cleaning null data\n",
        "    does_null_reviews_exist = df['Review'].isnull().values.any()\n",
        "    does_null_rating_exist = df['Rating'].isnull().values.any()\n",
        "\n",
        "    if does_null_reviews_exist:\n",
        "        df['Review'] = df['Review'].fillna(\"\")\n",
        "\n",
        "    if does_null_rating_exist:\n",
        "        df['Rating'] = df['Rating'].fillna(0)\n",
        "\n",
        "    # Remove punctuations and special characterstics\n",
        "    review_cleaned = df['Review'].str.replace(\n",
        "        pat=r'[^\\w\\s]+', repl=\"\", regex=True)\n",
        "\n",
        "    # Remove emojis\n",
        "    review_cleaned = review_cleaned.apply(\n",
        "        lambda x: x.encode('ascii', 'ignore').decode('ascii'))\n",
        "\n",
        "    # Turn numbers into text\n",
        "    review_cleaned = review_cleaned.apply(numberToWord)\n",
        "\n",
        "    cleaned_reviews = review_cleaned.to_list()\n",
        "    # Remove white spaces (tokenize)\n",
        "    reviews_tokenized = word_tokenize(\" \".join(cleaned_reviews))\n",
        "\n",
        "    # Turn all words into lowercase\n",
        "    reviews_tokenized = [word.lower() for word in reviews_tokenized]\n",
        "\n",
        "    # Remove stop words\n",
        "    english_stop_words = set(stopwords.words('english'))\n",
        "    tokens_after_removing_stop_words = [\n",
        "        word for word in reviews_tokenized if word not in english_stop_words]\n",
        "\n",
        "    # Lemmatize the reviews\n",
        "    lemmatizer = WordNetLemmatizer()\n",
        "    lemmatized_tokens = [lemmatizer.lemmatize(\n",
        "        token, pos=\"v\") for token in tokens_after_removing_stop_words]\n",
        "    \n",
        "\n",
        "    return lemmatized_tokens"
      ],
      "metadata": {
        "id": "o3MxMnFjbV8Z"
      },
      "execution_count": null,
      "outputs": []
    },
    {
      "cell_type": "code",
      "source": [
        "cleaned_reviews_shell = pre_process_reviews(shell_df)\n",
        "cleaned_reviews_chan = pre_process_reviews(chan_df)\n",
        "cleaned_reviews_cpan = pre_process_reviews(cpan_df)\n",
        "cleaned_reviews_scheduler = pre_process_reviews(scheduler_df)\n",
        "cleaned_reviews_browser = pre_process_reviews(browser_df)\n",
        "\n",
        "# Sample cleaned data\n",
        "print(cleaned_reviews_shell[:15])\n",
        "print(cleaned_reviews_chan[:15])\n",
        "print(cleaned_reviews_cpan[:15])\n",
        "print(cleaned_reviews_scheduler[:15])\n",
        "print(cleaned_reviews_browser[:15])"
      ],
      "metadata": {
        "id": "tBboJVGdh3Ze",
        "colab": {
          "base_uri": "https://localhost:8080/"
        },
        "outputId": "99e2c7e5-c1f7-4a96-cb58-258e923e0ccb"
      },
      "execution_count": null,
      "outputs": [
        {
          "output_type": "stream",
          "name": "stdout",
          "text": [
            "['please', 'add', 'advance', 'java', 'feature', 'would', 'helpful', 'decent', 'itd', 'useful', 'gradle', 'support', 'upgrade', 'java', 'version']\n",
            "['think', 'glowies', 'delete', 'phone', 'do', 'change', 'name', 'good', 'app', 'although', 'wont', 'let', 'post', 'vpn', 'whereas']\n",
            "['useful', 'info', 'detail', 'place', 'case', 'difficult', 'find', 'need', 'find', 'useful', 'show', 'unnecessary', 'ad', 'first', 'stop']\n",
            "['keep', 'say', 'problem', 'task', 'event', 'host', 'sign', 'session', 'single', 'event', 'add', 'work', 'work', 'slowly', 'slow']\n",
            "['simple', 'easy', 'use', 'security', 'options', 'minimalist', 'browsers', 'seem', 'lack', 'would', 'nice', 'whitelist', 'sit', 'example', 'cookies']\n"
          ]
        }
      ]
    },
    {
      "cell_type": "markdown",
      "source": [
        "### Task 2 Bonus:\n",
        "Yes, the stop words has an impact on the analysis of the reviews. The risk of using a non-customized list of stop words is that the generic list of stop words for english may not be sufficient since it is not domain specific. There are words, which are mobile app domain-specific, that offer no information to the reviews; as such, they should be considered as stop-words. But, using the generic list of stop words will treat these words as important words. "
      ],
      "metadata": {
        "id": "yKMxvyUu4t0X"
      }
    },
    {
      "cell_type": "markdown",
      "source": [
        "# Task 3: Sentiment Analysis"
      ],
      "metadata": {
        "id": "kckc0cpLuPoE"
      }
    },
    {
      "cell_type": "code",
      "source": [
        "# Check if any null values exist in the data and replace them with default values\n",
        "does_null_reviews_exist = shell_df['Review'].isnull().values.any()\n",
        "does_null_rating_exist = shell_df['Rating'].isnull().values.any()\n",
        "\n",
        "if does_null_reviews_exist:\n",
        "  shell_df['Review'] = shell_df['Review'].fillna(\"\")\n",
        "\n",
        "if does_null_rating_exist:\n",
        "  shell_df['Rating'] = shell_df['Rating'].fillna(0)"
      ],
      "metadata": {
        "id": "eGrycNrXbX0o"
      },
      "execution_count": null,
      "outputs": []
    },
    {
      "cell_type": "code",
      "source": [
        "def sentiment_analyis_with_text_blob(reviews, package_id):\n",
        "    review_polarities = []\n",
        "    for review in reviews:\n",
        "        text_blob = TextBlob(review)\n",
        "        polarity, subjectivity = text_blob.sentiment\n",
        "        review_polarities.append(polarity)\n",
        "\n",
        "    analysis_df = pd.DataFrame({\n",
        "        \"App’s package name\": package_id,\n",
        "        \"Review\": reviews,\n",
        "        \"Polarity\": review_polarities\n",
        "    })\n",
        "\n",
        "    return analysis_df\n",
        "    \n",
        "\n",
        "def sentiment_analysis_with_VADER(reviews, package_id):\n",
        "    analyzer = SentimentIntensityAnalyzer()\n",
        "    polarities = []\n",
        "    for review in reviews:\n",
        "        vs = analyzer.polarity_scores(review)\n",
        "        polarities.append(str(vs))\n",
        "\n",
        "    analysis_df = pd.DataFrame({\n",
        "        \"App’s package name\": package_id,\n",
        "        \"Review\": reviews,\n",
        "        \"Polarity\": polarities\n",
        "    })\n",
        "\n",
        "    return analysis_df"
      ],
      "metadata": {
        "id": "pWtyzSxqbX0p"
      },
      "execution_count": null,
      "outputs": []
    },
    {
      "cell_type": "code",
      "source": [
        "# Apply TextBlob and VADER sentiment analysis to 5 apps\n",
        "text_blob_shell_sentiment_analysis = sentiment_analyis_with_text_blob(shell_df['Review'].to_list(), \"org.ligi.ajsha.csv\")\n",
        "vader_shell_sentiment_analysis = sentiment_analysis_with_VADER(shell_df['Review'].to_list(), \"org.ligi.ajsha.csv\")\n",
        "\n",
        "text_blob_chan_sentiment_analysis = sentiment_analyis_with_text_blob(shell_df['Review'].to_list(), \"nya.miku.wishmaster.csv\")\n",
        "vader_chan_sentiment_analysis = sentiment_analysis_with_VADER(shell_df['Review'].to_list(), \"nya.miku.wishmaster.csv\")\n",
        "\n",
        "text_blob_cpan_sentiment_analysis = sentiment_analyis_with_text_blob(shell_df['Review'].to_list(), \"com.qubling.sidekick.csv\")\n",
        "vader_cpan_sentiment_analysis = sentiment_analysis_with_VADER(shell_df['Review'].to_list(), \"com.qubling.sidekick.csv\")\n",
        "\n",
        "text_blob_scheduler_sentiment_analysis = sentiment_analyis_with_text_blob(shell_df['Review'].to_list(), \"at.linuxtage.companion.csv\")\n",
        "vader_scheduler_sentiment_analysis = sentiment_analysis_with_VADER(shell_df['Review'].to_list(), \"at.linuxtage.companion.csv\")\n",
        "\n",
        "text_blob_browser_sentiment_analysis = sentiment_analyis_with_text_blob(shell_df['Review'].to_list(), \"com.jtechme.jumpgo.csv\")\n",
        "vader_browser_sentiment_analysis = sentiment_analysis_with_VADER(shell_df['Review'].to_list(), \"com.jtechme.jumpgo.csv\")"
      ],
      "metadata": {
        "id": "3gg1oE63bX0p"
      },
      "execution_count": null,
      "outputs": []
    },
    {
      "cell_type": "code",
      "source": [
        "# Combining sentiment analysis by TextBlob\n",
        "text_blob_sentiment_analysis_data = pd.concat([\n",
        "                                        text_blob_shell_sentiment_analysis,\n",
        "                                        text_blob_chan_sentiment_analysis,\n",
        "                                        text_blob_cpan_sentiment_analysis,\n",
        "                                        text_blob_scheduler_sentiment_analysis,\n",
        "                                        text_blob_browser_sentiment_analysis\n",
        "])"
      ],
      "metadata": {
        "id": "WsEqsAxPEIZ0"
      },
      "execution_count": null,
      "outputs": []
    },
    {
      "cell_type": "code",
      "source": [
        "# Combining sentiment analysis by VADER\n",
        "vader_sentiment_analysis_data = pd.concat([\n",
        "                                           vader_shell_sentiment_analysis,\n",
        "                                           vader_chan_sentiment_analysis,\n",
        "                                           vader_cpan_sentiment_analysis,\n",
        "                                           vader_scheduler_sentiment_analysis,\n",
        "                                           vader_browser_sentiment_analysis\n",
        "])"
      ],
      "metadata": {
        "id": "mw05FttrGhBB"
      },
      "execution_count": null,
      "outputs": []
    },
    {
      "cell_type": "code",
      "source": [
        "text_blob_sentiment_analysis_data"
      ],
      "metadata": {
        "id": "09fZh48IEJAL",
        "colab": {
          "base_uri": "https://localhost:8080/",
          "height": 423
        },
        "outputId": "deb6bc54-13b6-4961-9237-999dfd946e9a"
      },
      "execution_count": null,
      "outputs": [
        {
          "output_type": "execute_result",
          "data": {
            "text/plain": [
              "          App’s package name  \\\n",
              "0         org.ligi.ajsha.csv   \n",
              "1         org.ligi.ajsha.csv   \n",
              "2         org.ligi.ajsha.csv   \n",
              "3         org.ligi.ajsha.csv   \n",
              "4         org.ligi.ajsha.csv   \n",
              "...                      ...   \n",
              "6844  com.jtechme.jumpgo.csv   \n",
              "6845  com.jtechme.jumpgo.csv   \n",
              "6846  com.jtechme.jumpgo.csv   \n",
              "6847  com.jtechme.jumpgo.csv   \n",
              "6848  com.jtechme.jumpgo.csv   \n",
              "\n",
              "                                                 Review  Polarity  \n",
              "0     Please add some advance java features in it. I...  0.000000  \n",
              "1     It's decent, but it'd be useful to have Gradle...  0.155556  \n",
              "2                                                  Nice  0.600000  \n",
              "3                           Good app but lots of add :)  0.600000  \n",
              "4     This app is very useful and handy, so I offer ...  0.495000  \n",
              "...                                                 ...       ...  \n",
              "6844  Very comfortable app, good design and good per...  0.640000  \n",
              "6845                                            Love it  0.500000  \n",
              "6846  sorry for my previous rates, actually it was c...  0.020833  \n",
              "6847                                           Nice app  0.600000  \n",
              "6848  Does not support android studio projects witho... -0.016667  \n",
              "\n",
              "[34245 rows x 3 columns]"
            ],
            "text/html": [
              "\n",
              "  <div id=\"df-5593fc8d-043c-4346-90ee-d4d1b330421e\">\n",
              "    <div class=\"colab-df-container\">\n",
              "      <div>\n",
              "<style scoped>\n",
              "    .dataframe tbody tr th:only-of-type {\n",
              "        vertical-align: middle;\n",
              "    }\n",
              "\n",
              "    .dataframe tbody tr th {\n",
              "        vertical-align: top;\n",
              "    }\n",
              "\n",
              "    .dataframe thead th {\n",
              "        text-align: right;\n",
              "    }\n",
              "</style>\n",
              "<table border=\"1\" class=\"dataframe\">\n",
              "  <thead>\n",
              "    <tr style=\"text-align: right;\">\n",
              "      <th></th>\n",
              "      <th>App’s package name</th>\n",
              "      <th>Review</th>\n",
              "      <th>Polarity</th>\n",
              "    </tr>\n",
              "  </thead>\n",
              "  <tbody>\n",
              "    <tr>\n",
              "      <th>0</th>\n",
              "      <td>org.ligi.ajsha.csv</td>\n",
              "      <td>Please add some advance java features in it. I...</td>\n",
              "      <td>0.000000</td>\n",
              "    </tr>\n",
              "    <tr>\n",
              "      <th>1</th>\n",
              "      <td>org.ligi.ajsha.csv</td>\n",
              "      <td>It's decent, but it'd be useful to have Gradle...</td>\n",
              "      <td>0.155556</td>\n",
              "    </tr>\n",
              "    <tr>\n",
              "      <th>2</th>\n",
              "      <td>org.ligi.ajsha.csv</td>\n",
              "      <td>Nice</td>\n",
              "      <td>0.600000</td>\n",
              "    </tr>\n",
              "    <tr>\n",
              "      <th>3</th>\n",
              "      <td>org.ligi.ajsha.csv</td>\n",
              "      <td>Good app but lots of add :)</td>\n",
              "      <td>0.600000</td>\n",
              "    </tr>\n",
              "    <tr>\n",
              "      <th>4</th>\n",
              "      <td>org.ligi.ajsha.csv</td>\n",
              "      <td>This app is very useful and handy, so I offer ...</td>\n",
              "      <td>0.495000</td>\n",
              "    </tr>\n",
              "    <tr>\n",
              "      <th>...</th>\n",
              "      <td>...</td>\n",
              "      <td>...</td>\n",
              "      <td>...</td>\n",
              "    </tr>\n",
              "    <tr>\n",
              "      <th>6844</th>\n",
              "      <td>com.jtechme.jumpgo.csv</td>\n",
              "      <td>Very comfortable app, good design and good per...</td>\n",
              "      <td>0.640000</td>\n",
              "    </tr>\n",
              "    <tr>\n",
              "      <th>6845</th>\n",
              "      <td>com.jtechme.jumpgo.csv</td>\n",
              "      <td>Love it</td>\n",
              "      <td>0.500000</td>\n",
              "    </tr>\n",
              "    <tr>\n",
              "      <th>6846</th>\n",
              "      <td>com.jtechme.jumpgo.csv</td>\n",
              "      <td>sorry for my previous rates, actually it was c...</td>\n",
              "      <td>0.020833</td>\n",
              "    </tr>\n",
              "    <tr>\n",
              "      <th>6847</th>\n",
              "      <td>com.jtechme.jumpgo.csv</td>\n",
              "      <td>Nice app</td>\n",
              "      <td>0.600000</td>\n",
              "    </tr>\n",
              "    <tr>\n",
              "      <th>6848</th>\n",
              "      <td>com.jtechme.jumpgo.csv</td>\n",
              "      <td>Does not support android studio projects witho...</td>\n",
              "      <td>-0.016667</td>\n",
              "    </tr>\n",
              "  </tbody>\n",
              "</table>\n",
              "<p>34245 rows × 3 columns</p>\n",
              "</div>\n",
              "      <button class=\"colab-df-convert\" onclick=\"convertToInteractive('df-5593fc8d-043c-4346-90ee-d4d1b330421e')\"\n",
              "              title=\"Convert this dataframe to an interactive table.\"\n",
              "              style=\"display:none;\">\n",
              "        \n",
              "  <svg xmlns=\"http://www.w3.org/2000/svg\" height=\"24px\"viewBox=\"0 0 24 24\"\n",
              "       width=\"24px\">\n",
              "    <path d=\"M0 0h24v24H0V0z\" fill=\"none\"/>\n",
              "    <path d=\"M18.56 5.44l.94 2.06.94-2.06 2.06-.94-2.06-.94-.94-2.06-.94 2.06-2.06.94zm-11 1L8.5 8.5l.94-2.06 2.06-.94-2.06-.94L8.5 2.5l-.94 2.06-2.06.94zm10 10l.94 2.06.94-2.06 2.06-.94-2.06-.94-.94-2.06-.94 2.06-2.06.94z\"/><path d=\"M17.41 7.96l-1.37-1.37c-.4-.4-.92-.59-1.43-.59-.52 0-1.04.2-1.43.59L10.3 9.45l-7.72 7.72c-.78.78-.78 2.05 0 2.83L4 21.41c.39.39.9.59 1.41.59.51 0 1.02-.2 1.41-.59l7.78-7.78 2.81-2.81c.8-.78.8-2.07 0-2.86zM5.41 20L4 18.59l7.72-7.72 1.47 1.35L5.41 20z\"/>\n",
              "  </svg>\n",
              "      </button>\n",
              "      \n",
              "  <style>\n",
              "    .colab-df-container {\n",
              "      display:flex;\n",
              "      flex-wrap:wrap;\n",
              "      gap: 12px;\n",
              "    }\n",
              "\n",
              "    .colab-df-convert {\n",
              "      background-color: #E8F0FE;\n",
              "      border: none;\n",
              "      border-radius: 50%;\n",
              "      cursor: pointer;\n",
              "      display: none;\n",
              "      fill: #1967D2;\n",
              "      height: 32px;\n",
              "      padding: 0 0 0 0;\n",
              "      width: 32px;\n",
              "    }\n",
              "\n",
              "    .colab-df-convert:hover {\n",
              "      background-color: #E2EBFA;\n",
              "      box-shadow: 0px 1px 2px rgba(60, 64, 67, 0.3), 0px 1px 3px 1px rgba(60, 64, 67, 0.15);\n",
              "      fill: #174EA6;\n",
              "    }\n",
              "\n",
              "    [theme=dark] .colab-df-convert {\n",
              "      background-color: #3B4455;\n",
              "      fill: #D2E3FC;\n",
              "    }\n",
              "\n",
              "    [theme=dark] .colab-df-convert:hover {\n",
              "      background-color: #434B5C;\n",
              "      box-shadow: 0px 1px 3px 1px rgba(0, 0, 0, 0.15);\n",
              "      filter: drop-shadow(0px 1px 2px rgba(0, 0, 0, 0.3));\n",
              "      fill: #FFFFFF;\n",
              "    }\n",
              "  </style>\n",
              "\n",
              "      <script>\n",
              "        const buttonEl =\n",
              "          document.querySelector('#df-5593fc8d-043c-4346-90ee-d4d1b330421e button.colab-df-convert');\n",
              "        buttonEl.style.display =\n",
              "          google.colab.kernel.accessAllowed ? 'block' : 'none';\n",
              "\n",
              "        async function convertToInteractive(key) {\n",
              "          const element = document.querySelector('#df-5593fc8d-043c-4346-90ee-d4d1b330421e');\n",
              "          const dataTable =\n",
              "            await google.colab.kernel.invokeFunction('convertToInteractive',\n",
              "                                                     [key], {});\n",
              "          if (!dataTable) return;\n",
              "\n",
              "          const docLinkHtml = 'Like what you see? Visit the ' +\n",
              "            '<a target=\"_blank\" href=https://colab.research.google.com/notebooks/data_table.ipynb>data table notebook</a>'\n",
              "            + ' to learn more about interactive tables.';\n",
              "          element.innerHTML = '';\n",
              "          dataTable['output_type'] = 'display_data';\n",
              "          await google.colab.output.renderOutput(dataTable, element);\n",
              "          const docLink = document.createElement('div');\n",
              "          docLink.innerHTML = docLinkHtml;\n",
              "          element.appendChild(docLink);\n",
              "        }\n",
              "      </script>\n",
              "    </div>\n",
              "  </div>\n",
              "  "
            ]
          },
          "metadata": {},
          "execution_count": 12
        }
      ]
    },
    {
      "cell_type": "code",
      "source": [
        "vader_sentiment_analysis_data"
      ],
      "metadata": {
        "colab": {
          "base_uri": "https://localhost:8080/",
          "height": 423
        },
        "id": "uYEmoJlNHBAx",
        "outputId": "54b57623-07db-4a30-dbe1-642d7997a554"
      },
      "execution_count": null,
      "outputs": [
        {
          "output_type": "execute_result",
          "data": {
            "text/plain": [
              "          App’s package name  \\\n",
              "0         org.ligi.ajsha.csv   \n",
              "1         org.ligi.ajsha.csv   \n",
              "2         org.ligi.ajsha.csv   \n",
              "3         org.ligi.ajsha.csv   \n",
              "4         org.ligi.ajsha.csv   \n",
              "...                      ...   \n",
              "6844  com.jtechme.jumpgo.csv   \n",
              "6845  com.jtechme.jumpgo.csv   \n",
              "6846  com.jtechme.jumpgo.csv   \n",
              "6847  com.jtechme.jumpgo.csv   \n",
              "6848  com.jtechme.jumpgo.csv   \n",
              "\n",
              "                                                 Review  \\\n",
              "0     Please add some advance java features in it. I...   \n",
              "1     It's decent, but it'd be useful to have Gradle...   \n",
              "2                                                  Nice   \n",
              "3                           Good app but lots of add :)   \n",
              "4     This app is very useful and handy, so I offer ...   \n",
              "...                                                 ...   \n",
              "6844  Very comfortable app, good design and good per...   \n",
              "6845                                            Love it   \n",
              "6846  sorry for my previous rates, actually it was c...   \n",
              "6847                                           Nice app   \n",
              "6848  Does not support android studio projects witho...   \n",
              "\n",
              "                                               Polarity  \n",
              "0     {'neg': 0.0, 'neu': 0.662, 'pos': 0.338, 'comp...  \n",
              "1     {'neg': 0.0, 'neu': 0.797, 'pos': 0.203, 'comp...  \n",
              "2     {'neg': 0.0, 'neu': 0.0, 'pos': 1.0, 'compound...  \n",
              "3     {'neg': 0.0, 'neu': 0.457, 'pos': 0.543, 'comp...  \n",
              "4     {'neg': 0.0, 'neu': 0.722, 'pos': 0.278, 'comp...  \n",
              "...                                                 ...  \n",
              "6844  {'neg': 0.0, 'neu': 0.341, 'pos': 0.659, 'comp...  \n",
              "6845  {'neg': 0.0, 'neu': 0.192, 'pos': 0.808, 'comp...  \n",
              "6846  {'neg': 0.055, 'neu': 0.809, 'pos': 0.136, 'co...  \n",
              "6847  {'neg': 0.0, 'neu': 0.263, 'pos': 0.737, 'comp...  \n",
              "6848  {'neg': 0.218, 'neu': 0.782, 'pos': 0.0, 'comp...  \n",
              "\n",
              "[34245 rows x 3 columns]"
            ],
            "text/html": [
              "\n",
              "  <div id=\"df-abc22b62-9fab-40ff-aca2-574686e16956\">\n",
              "    <div class=\"colab-df-container\">\n",
              "      <div>\n",
              "<style scoped>\n",
              "    .dataframe tbody tr th:only-of-type {\n",
              "        vertical-align: middle;\n",
              "    }\n",
              "\n",
              "    .dataframe tbody tr th {\n",
              "        vertical-align: top;\n",
              "    }\n",
              "\n",
              "    .dataframe thead th {\n",
              "        text-align: right;\n",
              "    }\n",
              "</style>\n",
              "<table border=\"1\" class=\"dataframe\">\n",
              "  <thead>\n",
              "    <tr style=\"text-align: right;\">\n",
              "      <th></th>\n",
              "      <th>App’s package name</th>\n",
              "      <th>Review</th>\n",
              "      <th>Polarity</th>\n",
              "    </tr>\n",
              "  </thead>\n",
              "  <tbody>\n",
              "    <tr>\n",
              "      <th>0</th>\n",
              "      <td>org.ligi.ajsha.csv</td>\n",
              "      <td>Please add some advance java features in it. I...</td>\n",
              "      <td>{'neg': 0.0, 'neu': 0.662, 'pos': 0.338, 'comp...</td>\n",
              "    </tr>\n",
              "    <tr>\n",
              "      <th>1</th>\n",
              "      <td>org.ligi.ajsha.csv</td>\n",
              "      <td>It's decent, but it'd be useful to have Gradle...</td>\n",
              "      <td>{'neg': 0.0, 'neu': 0.797, 'pos': 0.203, 'comp...</td>\n",
              "    </tr>\n",
              "    <tr>\n",
              "      <th>2</th>\n",
              "      <td>org.ligi.ajsha.csv</td>\n",
              "      <td>Nice</td>\n",
              "      <td>{'neg': 0.0, 'neu': 0.0, 'pos': 1.0, 'compound...</td>\n",
              "    </tr>\n",
              "    <tr>\n",
              "      <th>3</th>\n",
              "      <td>org.ligi.ajsha.csv</td>\n",
              "      <td>Good app but lots of add :)</td>\n",
              "      <td>{'neg': 0.0, 'neu': 0.457, 'pos': 0.543, 'comp...</td>\n",
              "    </tr>\n",
              "    <tr>\n",
              "      <th>4</th>\n",
              "      <td>org.ligi.ajsha.csv</td>\n",
              "      <td>This app is very useful and handy, so I offer ...</td>\n",
              "      <td>{'neg': 0.0, 'neu': 0.722, 'pos': 0.278, 'comp...</td>\n",
              "    </tr>\n",
              "    <tr>\n",
              "      <th>...</th>\n",
              "      <td>...</td>\n",
              "      <td>...</td>\n",
              "      <td>...</td>\n",
              "    </tr>\n",
              "    <tr>\n",
              "      <th>6844</th>\n",
              "      <td>com.jtechme.jumpgo.csv</td>\n",
              "      <td>Very comfortable app, good design and good per...</td>\n",
              "      <td>{'neg': 0.0, 'neu': 0.341, 'pos': 0.659, 'comp...</td>\n",
              "    </tr>\n",
              "    <tr>\n",
              "      <th>6845</th>\n",
              "      <td>com.jtechme.jumpgo.csv</td>\n",
              "      <td>Love it</td>\n",
              "      <td>{'neg': 0.0, 'neu': 0.192, 'pos': 0.808, 'comp...</td>\n",
              "    </tr>\n",
              "    <tr>\n",
              "      <th>6846</th>\n",
              "      <td>com.jtechme.jumpgo.csv</td>\n",
              "      <td>sorry for my previous rates, actually it was c...</td>\n",
              "      <td>{'neg': 0.055, 'neu': 0.809, 'pos': 0.136, 'co...</td>\n",
              "    </tr>\n",
              "    <tr>\n",
              "      <th>6847</th>\n",
              "      <td>com.jtechme.jumpgo.csv</td>\n",
              "      <td>Nice app</td>\n",
              "      <td>{'neg': 0.0, 'neu': 0.263, 'pos': 0.737, 'comp...</td>\n",
              "    </tr>\n",
              "    <tr>\n",
              "      <th>6848</th>\n",
              "      <td>com.jtechme.jumpgo.csv</td>\n",
              "      <td>Does not support android studio projects witho...</td>\n",
              "      <td>{'neg': 0.218, 'neu': 0.782, 'pos': 0.0, 'comp...</td>\n",
              "    </tr>\n",
              "  </tbody>\n",
              "</table>\n",
              "<p>34245 rows × 3 columns</p>\n",
              "</div>\n",
              "      <button class=\"colab-df-convert\" onclick=\"convertToInteractive('df-abc22b62-9fab-40ff-aca2-574686e16956')\"\n",
              "              title=\"Convert this dataframe to an interactive table.\"\n",
              "              style=\"display:none;\">\n",
              "        \n",
              "  <svg xmlns=\"http://www.w3.org/2000/svg\" height=\"24px\"viewBox=\"0 0 24 24\"\n",
              "       width=\"24px\">\n",
              "    <path d=\"M0 0h24v24H0V0z\" fill=\"none\"/>\n",
              "    <path d=\"M18.56 5.44l.94 2.06.94-2.06 2.06-.94-2.06-.94-.94-2.06-.94 2.06-2.06.94zm-11 1L8.5 8.5l.94-2.06 2.06-.94-2.06-.94L8.5 2.5l-.94 2.06-2.06.94zm10 10l.94 2.06.94-2.06 2.06-.94-2.06-.94-.94-2.06-.94 2.06-2.06.94z\"/><path d=\"M17.41 7.96l-1.37-1.37c-.4-.4-.92-.59-1.43-.59-.52 0-1.04.2-1.43.59L10.3 9.45l-7.72 7.72c-.78.78-.78 2.05 0 2.83L4 21.41c.39.39.9.59 1.41.59.51 0 1.02-.2 1.41-.59l7.78-7.78 2.81-2.81c.8-.78.8-2.07 0-2.86zM5.41 20L4 18.59l7.72-7.72 1.47 1.35L5.41 20z\"/>\n",
              "  </svg>\n",
              "      </button>\n",
              "      \n",
              "  <style>\n",
              "    .colab-df-container {\n",
              "      display:flex;\n",
              "      flex-wrap:wrap;\n",
              "      gap: 12px;\n",
              "    }\n",
              "\n",
              "    .colab-df-convert {\n",
              "      background-color: #E8F0FE;\n",
              "      border: none;\n",
              "      border-radius: 50%;\n",
              "      cursor: pointer;\n",
              "      display: none;\n",
              "      fill: #1967D2;\n",
              "      height: 32px;\n",
              "      padding: 0 0 0 0;\n",
              "      width: 32px;\n",
              "    }\n",
              "\n",
              "    .colab-df-convert:hover {\n",
              "      background-color: #E2EBFA;\n",
              "      box-shadow: 0px 1px 2px rgba(60, 64, 67, 0.3), 0px 1px 3px 1px rgba(60, 64, 67, 0.15);\n",
              "      fill: #174EA6;\n",
              "    }\n",
              "\n",
              "    [theme=dark] .colab-df-convert {\n",
              "      background-color: #3B4455;\n",
              "      fill: #D2E3FC;\n",
              "    }\n",
              "\n",
              "    [theme=dark] .colab-df-convert:hover {\n",
              "      background-color: #434B5C;\n",
              "      box-shadow: 0px 1px 3px 1px rgba(0, 0, 0, 0.15);\n",
              "      filter: drop-shadow(0px 1px 2px rgba(0, 0, 0, 0.3));\n",
              "      fill: #FFFFFF;\n",
              "    }\n",
              "  </style>\n",
              "\n",
              "      <script>\n",
              "        const buttonEl =\n",
              "          document.querySelector('#df-abc22b62-9fab-40ff-aca2-574686e16956 button.colab-df-convert');\n",
              "        buttonEl.style.display =\n",
              "          google.colab.kernel.accessAllowed ? 'block' : 'none';\n",
              "\n",
              "        async function convertToInteractive(key) {\n",
              "          const element = document.querySelector('#df-abc22b62-9fab-40ff-aca2-574686e16956');\n",
              "          const dataTable =\n",
              "            await google.colab.kernel.invokeFunction('convertToInteractive',\n",
              "                                                     [key], {});\n",
              "          if (!dataTable) return;\n",
              "\n",
              "          const docLinkHtml = 'Like what you see? Visit the ' +\n",
              "            '<a target=\"_blank\" href=https://colab.research.google.com/notebooks/data_table.ipynb>data table notebook</a>'\n",
              "            + ' to learn more about interactive tables.';\n",
              "          element.innerHTML = '';\n",
              "          dataTable['output_type'] = 'display_data';\n",
              "          await google.colab.output.renderOutput(dataTable, element);\n",
              "          const docLink = document.createElement('div');\n",
              "          docLink.innerHTML = docLinkHtml;\n",
              "          element.appendChild(docLink);\n",
              "        }\n",
              "      </script>\n",
              "    </div>\n",
              "  </div>\n",
              "  "
            ]
          },
          "metadata": {},
          "execution_count": 13
        }
      ]
    },
    {
      "cell_type": "markdown",
      "source": [
        "The sentiment analysis retrieved using TextBlob only gives a polarity and subjectivity number. The polarity, as per the documentation, is a value in the range of -1.0 and 1.0. Thus, it is hard to discern what proportion of happiness/neutrality/sadness is present in the text. \n",
        "\n",
        "However, the sentiment analysis retrieved using VADER gives fixed proportions of positivity, neutrality and negativity. Thus, it is easier to analyze and understand the review. Furthermore, it also provides a compound score value, which is commonly used in sentiment analysis by the researchers.\n",
        "\n",
        "`VADER` is the better option for reviews of the apps since it is more informative as it provides proportions of positivity, neutrality and negativity present in the text."
      ],
      "metadata": {
        "id": "9B-lR8rK6Qvn"
      }
    },
    {
      "cell_type": "markdown",
      "source": [
        "# Task 4: Topic Modelling with LDA"
      ],
      "metadata": {
        "id": "190l6z8YbX0q"
      }
    },
    {
      "cell_type": "markdown",
      "source": [
        "Task 4: part II"
      ],
      "metadata": {
        "id": "T6WmV6L_SGKX"
      }
    },
    {
      "cell_type": "code",
      "source": [
        "# We will topic model using the data with most reviews\n",
        "print(len(cleaned_reviews_shell))\n",
        "print(len(cleaned_reviews_chan))\n",
        "print(len(cleaned_reviews_cpan))\n",
        "print(len(cleaned_reviews_scheduler))\n",
        "print(len(cleaned_reviews_browser)) \n",
        "\n",
        "# Browser app's data has the most data so we will use it for LDA "
      ],
      "metadata": {
        "id": "zQf9fLBWbX0q",
        "colab": {
          "base_uri": "https://localhost:8080/"
        },
        "outputId": "90842b33-7c72-485d-9702-ce7924acb9f9"
      },
      "execution_count": null,
      "outputs": [
        {
          "output_type": "stream",
          "name": "stdout",
          "text": [
            "55577\n",
            "10013\n",
            "123\n",
            "57748\n",
            "98597\n"
          ]
        }
      ]
    },
    {
      "cell_type": "code",
      "source": [
        "def topic_modelling(cleaned_app_reviews, number_of_topics):\n",
        "    \"\"\"\n",
        "        This function returns the topics modelled given a list of clean app reviews, `cleaned_app_reviews`, \n",
        "        and an integer, `number_of_topics`.\n",
        "    \"\"\"\n",
        "    preprocessed_corpus = [\" \".join(cleaned_app_reviews)]\n",
        "\n",
        "    # Tf-idf model\n",
        "    tfidf_creator = TfidfVectorizer(min_df=0.2)\n",
        "    tfidf = tfidf_creator.fit_transform(preprocessed_corpus)\n",
        "\n",
        "    # Tf-idf LDA model\n",
        "    lda_tfidf_creator = LatentDirichletAllocation(learning_method='online', n_components=number_of_topics)\n",
        "    lda_tfidf = lda_tfidf_creator.fit_transform(tfidf)\n",
        "\n",
        "    topics_found = []\n",
        "\n",
        "    for topic_number, topic in enumerate(lda_tfidf_creator.components_):\n",
        "        result =  \" \".join([tfidf_creator.get_feature_names()[i] for i in topic.argsort()[:-8 : -1]])\n",
        "        topics_found.append(result)\n",
        "    \n",
        "    return topics_found\n",
        "\n",
        "def print_topics(topics_list):\n",
        "  \"\"\"\n",
        "    Print the topics in `topics_list`\n",
        "  \"\"\"\n",
        "  topic_count = len(topics_list)\n",
        "  i = 0\n",
        "  print(\"-----Topics found-----\")\n",
        "  while i < topic_count:\n",
        "    message = \"Topic #{}: \".format(i + 1)\n",
        "    message += topics_list[i]\n",
        "    print(message)\n",
        "    i += 1"
      ],
      "metadata": {
        "id": "fxT0LVRnX8cm"
      },
      "execution_count": null,
      "outputs": []
    },
    {
      "cell_type": "markdown",
      "source": [
        "Topic Modelling Browser App Reviews"
      ],
      "metadata": {
        "id": "YIN89EeWZPCb"
      }
    },
    {
      "cell_type": "code",
      "source": [
        "assigned_app_topics = topic_modelling(cleaned_reviews_browser, number_of_topics=10)\n",
        "print_topics(assigned_app_topics)"
      ],
      "metadata": {
        "colab": {
          "base_uri": "https://localhost:8080/"
        },
        "id": "ERULzS0-YAT4",
        "outputId": "c6c26abe-3939-48f6-b465-5376d85d90e9"
      },
      "execution_count": null,
      "outputs": [
        {
          "output_type": "stream",
          "name": "stdout",
          "text": [
            "-----Topics found-----\n",
            "Topic #1: widget happily inteded honest oo intrusion hmm\n",
            "Topic #2: safer divice pizza appearance pal thoroughly gosh\n",
            "Topic #3: workit tx usara valley dolanjski rom identify\n",
            "Topic #4: browser app use search good one love\n",
            "Topic #5: kroll frequently exilant my_ enhance whats thos\n",
            "Topic #6: everyday awoesome need beforebut image rid ultranationalists\n",
            "Topic #7: dyor unfunctional fasteasy cue pink oreo charge\n",
            "Topic #8: kikis nevigate local unedited fonts deletedof scrollbar\n",
            "Topic #9: cn amaizingfast thathoping jus compatible oru disruptive\n",
            "Topic #10: yasssss noticeable buttonsheet til reality superfasta monster\n"
          ]
        }
      ]
    },
    {
      "cell_type": "markdown",
      "source": [
        "Task 4: Part III\n",
        "\n"
      ],
      "metadata": {
        "id": "uOzZppOnt_In"
      }
    },
    {
      "cell_type": "markdown",
      "source": [
        "**In case the topics change, below are the topics for which the question have been answered**\n",
        "\n",
        "* Topic #1: widget happily inteded honest oo intrusion hmm\n",
        "* Topic #2: safer divice pizza appearance pal thoroughly gosh\n",
        "* Topic #3: workit tx usara valley dolanjski rom identify\n",
        "* Topic #4: browser app use search good one love\n",
        "* Topic #5: kroll frequently exilant my_ enhance whats thos\n",
        "* Topic #6: everyday awoesome need beforebut image rid ultranationalists\n",
        "* Topic #7: dyor unfunctional fasteasy cue pink oreo charge\n",
        "* Topic #8: kikis nevigate local unedited fonts deletedof scrollbar\n",
        "* Topic #9: cn amaizingfast thathoping jus compatible oru disruptive\n",
        "* Topic #10: yasssss noticeable buttonsheet til reality superfasta monster\n",
        "\n",
        "**How do the topics relate to the features of the app?**\n",
        "\n",
        "* Topic #2 relates to the app features in that the users seem to agree that the broswer is safe, thus conforming to the app's privacy feature\n",
        "\n",
        "* Topic #4 relates to the app features in that the users seem to love the 'search suggestion' feature of the app\n",
        "\n",
        "* Topic #7, Topic #9 and Topic #10 all agree that the browser is very fast. Thus conforming to the app's high-speed feature."
      ],
      "metadata": {
        "id": "u7kt9_jSuvBD"
      }
    },
    {
      "cell_type": "markdown",
      "source": [
        "#### Grouping similar and competitor app separately"
      ],
      "metadata": {
        "id": "j6fj6l92N_sZ"
      }
    },
    {
      "cell_type": "code",
      "source": [
        "def get_competitor_or_similar_app_df(browser_df, package_id):\n",
        "  \"\"\"\n",
        "    Slice a given app data frame `browser_df` based on a package name `package_id`\n",
        "  \"\"\"\n",
        "  df_indices = browser_df.index[browser_df[\"Package name\"]== package_id].tolist()\n",
        "  df_indices_range = (df_indices[0], df_indices[-1])\n",
        "  df = browser_df[df_indices_range[0]: df_indices_range[-1] + 1]\n",
        "\n",
        "  return df\n",
        "\n",
        "# Similar and competitor apps for the browser app\n",
        "similar_app_df = get_competitor_or_similar_app_df(browser_df, \"acr.browser.barebones\")\n",
        "competitor_app_1_df = get_competitor_or_similar_app_df(browser_df, \"com.duckduckgo.mobile.android\")\n",
        "competitor_app_2_df = get_competitor_or_similar_app_df(browser_df, \"mark.via.gp\")\n",
        "competitor_app_3_df = get_competitor_or_similar_app_df(browser_df, \"com.kiwibrowser.browser\")"
      ],
      "metadata": {
        "id": "xyp51PVjO9Fn"
      },
      "execution_count": null,
      "outputs": []
    },
    {
      "cell_type": "code",
      "source": [
        "# Pre-process each similar and competitor app reviews\n",
        "similar_app_reviews = pre_process_reviews(similar_app_df)\n",
        "competitor_app_1_reviews = pre_process_reviews(competitor_app_1_df)\n",
        "competitor_app_2_reviews = pre_process_reviews(competitor_app_2_df)\n",
        "competitor_app_3_reviews = pre_process_reviews(competitor_app_3_df)"
      ],
      "metadata": {
        "id": "4-1OkplZbYBF"
      },
      "execution_count": null,
      "outputs": []
    },
    {
      "cell_type": "markdown",
      "source": [
        "**Task 4: part IV**"
      ],
      "metadata": {
        "id": "K5FXjK9NV3qJ"
      }
    },
    {
      "cell_type": "markdown",
      "source": [
        "Topic Modelling for Similar App"
      ],
      "metadata": {
        "id": "6zQ-DPAubYBF"
      }
    },
    {
      "cell_type": "code",
      "source": [
        "similar_app_topics = topic_modelling(similar_app_reviews, number_of_topics=5)\n",
        "print_topics(similar_app_topics)"
      ],
      "metadata": {
        "id": "REWg-zqhbYKb",
        "colab": {
          "base_uri": "https://localhost:8080/"
        },
        "outputId": "7b2e98e9-f06c-4680-9c10-12b8db31e7af"
      },
      "execution_count": null,
      "outputs": [
        {
          "output_type": "stream",
          "name": "stdout",
          "text": [
            "-----Topics found-----\n",
            "Topic #1: please unfixed stumble low kullanmaya slow twitter\n",
            "Topic #2: machine wo storage optimizations match pls ability\n",
            "Topic #3: browser fast use app like one get\n",
            "Topic #4: worst news soooo najbolji january minimalism iphone\n",
            "Topic #5: hopefully atm intrusive principles hassle tight guy\n"
          ]
        }
      ]
    },
    {
      "cell_type": "markdown",
      "source": [
        "Topic Modelling for Competitor App 1"
      ],
      "metadata": {
        "id": "9Hq-RpQ8bYKb"
      }
    },
    {
      "cell_type": "code",
      "source": [
        "competitor_app_1_topics = topic_modelling(competitor_app_1_reviews, number_of_topics=5)\n",
        "print_topics(competitor_app_1_topics)"
      ],
      "metadata": {
        "id": "HPc-ncdSbYKb",
        "colab": {
          "base_uri": "https://localhost:8080/"
        },
        "outputId": "d1bd61a8-d26a-493d-8b5e-db31cd400b4f"
      },
      "execution_count": null,
      "outputs": [
        {
          "output_type": "stream",
          "name": "stdout",
          "text": [
            "-----Topics found-----\n",
            "Topic #1: app search use google good like privacy\n",
            "Topic #2: suppress bookmarks though decision especially gabriel fup\n",
            "Topic #3: brownshirts redirections moderation alternatives downrank properly de\n",
            "Topic #4: ludzi stall guide notification tire key throw\n",
            "Topic #5: conlusions kick please correct memes gaberdusa larger\n"
          ]
        }
      ]
    },
    {
      "cell_type": "markdown",
      "source": [
        "Topic Modelling for Competitor App 2"
      ],
      "metadata": {
        "id": "FGgG48JcbYKb"
      }
    },
    {
      "cell_type": "code",
      "source": [
        "competitor_app_2_topics = topic_modelling(competitor_app_2_reviews, number_of_topics=5)\n",
        "print_topics(competitor_app_2_topics)"
      ],
      "metadata": {
        "colab": {
          "base_uri": "https://localhost:8080/"
        },
        "id": "Y6_YnhhwY3yP",
        "outputId": "f5e58982-846e-4fec-c7b0-ba5b5d90c01b"
      },
      "execution_count": null,
      "outputs": [
        {
          "output_type": "stream",
          "name": "stdout",
          "text": [
            "-----Topics found-----\n",
            "Topic #1: browser app best one good fast add\n",
            "Topic #2: exsoundcloud next didnt exist install consistently rotate\n",
            "Topic #3: issue seek join secrets soulbrowser surf il\n",
            "Topic #4: function huawei yo browserbut postiphone explorar hind\n",
            "Topic #5: necesitar tabplease sight describe disturbancesyou elsefire electronic\n"
          ]
        }
      ]
    },
    {
      "cell_type": "markdown",
      "source": [
        "Topic Modelling for Competitor App 3"
      ],
      "metadata": {
        "id": "FaTSpHYKZE0L"
      }
    },
    {
      "cell_type": "code",
      "source": [
        "competitor_app_3_topics = topic_modelling(competitor_app_3_reviews, number_of_topics=5)\n",
        "print_topics(competitor_app_3_topics)"
      ],
      "metadata": {
        "colab": {
          "base_uri": "https://localhost:8080/"
        },
        "id": "KNfQBD_dZApx",
        "outputId": "d6f510d9-66ae-4803-f809-651e616b1024"
      },
      "execution_count": null,
      "outputs": [
        {
          "output_type": "stream",
          "name": "stdout",
          "text": [
            "-----Topics found-----\n",
            "Topic #1: strange vital menu supposedly like installbut mozila\n",
            "Topic #2: browser app good use best work chrome\n",
            "Topic #3: eg ch track kendall range ii shortcut\n",
            "Topic #4: terzos bookmarking sis dega bits helpul simply\n",
            "Topic #5: saport freak business vectr reallly ammounts truncate\n"
          ]
        }
      ]
    },
    {
      "cell_type": "markdown",
      "source": [
        "Task 4: Part V\n",
        "\n",
        "The apps are compared using cosine similarity matrix such that only cells of the matrix with similarity > 0 are shown"
      ],
      "metadata": {
        "id": "2PZa3Z6bw3vG"
      }
    },
    {
      "cell_type": "code",
      "source": [
        "# Similarity matrix\n",
        "corpus = assigned_app_topics + similar_app_topics + competitor_app_1_topics + competitor_app_2_topics + competitor_app_3_topics\n",
        "vectorizer = TfidfVectorizer()\n",
        "\n",
        "# Displays similarities > 0 between the assigned app and similar + competitor apps\n",
        "tfidf = vectorizer.fit_transform(corpus)\n",
        "pairwise_similarity = tfidf * tfidf.T\n",
        "\n",
        "print(pairwise_similarity)"
      ],
      "metadata": {
        "colab": {
          "base_uri": "https://localhost:8080/"
        },
        "id": "OcNPHw6GJn07",
        "outputId": "21540e88-ef6e-4f70-d179-ffa77eb37090"
      },
      "execution_count": null,
      "outputs": [
        {
          "output_type": "stream",
          "name": "stdout",
          "text": [
            "  (0, 0)\t1.0000000000000002\n",
            "  (1, 1)\t1.0000000000000002\n",
            "  (2, 2)\t1.0000000000000002\n",
            "  (3, 26)\t0.4570983819033667\n",
            "  (3, 15)\t0.49897596095774066\n",
            "  (3, 20)\t0.4818657025307194\n",
            "  (3, 12)\t0.48846028446147605\n",
            "  (3, 3)\t1.0000000000000002\n",
            "  (4, 4)\t1.0000000000000002\n",
            "  (5, 5)\t1.0000000000000002\n",
            "  (6, 6)\t1.0000000000000002\n",
            "  (7, 7)\t1.0000000000000002\n",
            "  (8, 8)\t1.0000000000000002\n",
            "  (9, 9)\t1.0000000000000002\n",
            "  (10, 19)\t0.11699396642956693\n",
            "  (10, 10)\t1.0\n",
            "  (11, 11)\t1.0000000000000002\n",
            "  (12, 26)\t0.33578841643186885\n",
            "  (12, 3)\t0.48846028446147605\n",
            "  (12, 20)\t0.5236901807837273\n",
            "  (12, 25)\t0.11783362820308785\n",
            "  (12, 15)\t0.3516958317905625\n",
            "  (12, 12)\t1.0\n",
            "  (13, 13)\t1.0000000000000002\n",
            "  (14, 14)\t1.0000000000000002\n",
            "  :\t:\n",
            "  (16, 16)\t1.0000000000000002\n",
            "  (17, 17)\t1.0000000000000002\n",
            "  (18, 18)\t1.0000000000000002\n",
            "  (19, 10)\t0.11699396642956693\n",
            "  (19, 19)\t1.0\n",
            "  (20, 15)\t0.2140453306928336\n",
            "  (20, 3)\t0.4818657025307194\n",
            "  (20, 12)\t0.5236901807837273\n",
            "  (20, 26)\t0.4919140841068451\n",
            "  (20, 20)\t0.9999999999999998\n",
            "  (21, 21)\t1.0000000000000002\n",
            "  (22, 22)\t1.0000000000000002\n",
            "  (23, 23)\t1.0000000000000002\n",
            "  (24, 24)\t1.0000000000000002\n",
            "  (25, 15)\t0.11388121482942298\n",
            "  (25, 12)\t0.11783362820308785\n",
            "  (25, 25)\t0.9999999999999999\n",
            "  (26, 12)\t0.33578841643186885\n",
            "  (26, 15)\t0.3245252936029625\n",
            "  (26, 3)\t0.4570983819033667\n",
            "  (26, 20)\t0.4919140841068451\n",
            "  (26, 26)\t1.0\n",
            "  (27, 27)\t1.0000000000000002\n",
            "  (28, 28)\t1.0000000000000002\n",
            "  (29, 29)\t1.0000000000000002\n"
          ]
        }
      ]
    },
    {
      "cell_type": "markdown",
      "source": [
        "# Task 5: Recommendation\n",
        "\n",
        "https://github.com/tuyafeng/Via/issues/1069"
      ],
      "metadata": {
        "id": "5aMRDLxuO-EX"
      }
    }
  ]
}